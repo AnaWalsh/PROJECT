{
 "cells": [
  {
   "cell_type": "code",
   "execution_count": 2,
   "id": "230aed06",
   "metadata": {},
   "outputs": [],
   "source": [
    "from pymongo import MongoClient\n",
    "import requests\n",
    "from dotenv import load_dotenv\n",
    "import os\n",
    "import pandas as pd\n",
    "import geopandas as gpd\n",
    "from cartoframes.viz import Map, Layer, popup_element\n",
    "from functools import reduce\n",
    "import operator\n",
    "import json\n",
    "import re"
   ]
  },
  {
   "cell_type": "code",
   "execution_count": 102,
   "id": "22a730bc",
   "metadata": {},
   "outputs": [],
   "source": [
    "df = pd.read_csv('df_final_clean3.csv', index_col=0)\n",
    "df.dropna(how = \"all\", axis = 0, inplace = True)"
   ]
  },
  {
   "cell_type": "code",
   "execution_count": 103,
   "id": "c0cf04cd",
   "metadata": {},
   "outputs": [
    {
     "data": {
      "text/html": [
       "<div>\n",
       "<style scoped>\n",
       "    .dataframe tbody tr th:only-of-type {\n",
       "        vertical-align: middle;\n",
       "    }\n",
       "\n",
       "    .dataframe tbody tr th {\n",
       "        vertical-align: top;\n",
       "    }\n",
       "\n",
       "    .dataframe thead th {\n",
       "        text-align: right;\n",
       "    }\n",
       "</style>\n",
       "<table border=\"1\" class=\"dataframe\">\n",
       "  <thead>\n",
       "    <tr style=\"text-align: right;\">\n",
       "      <th></th>\n",
       "      <th>name</th>\n",
       "      <th>address</th>\n",
       "      <th>type</th>\n",
       "      <th>ranking</th>\n",
       "      <th>price</th>\n",
       "      <th>direccion</th>\n",
       "      <th>comunidad</th>\n",
       "      <th>street</th>\n",
       "      <th>street_2</th>\n",
       "      <th>coordinates</th>\n",
       "      <th>street_3</th>\n",
       "    </tr>\n",
       "    <tr>\n",
       "      <th>indice</th>\n",
       "      <th></th>\n",
       "      <th></th>\n",
       "      <th></th>\n",
       "      <th></th>\n",
       "      <th></th>\n",
       "      <th></th>\n",
       "      <th></th>\n",
       "      <th></th>\n",
       "      <th></th>\n",
       "      <th></th>\n",
       "      <th></th>\n",
       "    </tr>\n",
       "  </thead>\n",
       "  <tbody>\n",
       "    <tr>\n",
       "      <th>413.0</th>\n",
       "      <td>El anciano rey de los vinos</td>\n",
       "      <td>Calle Bailén 19, 28013 Madrid España</td>\n",
       "      <td>Mediterránea</td>\n",
       "      <td>#549 de 10.409 restaurantes en Madrid</td>\n",
       "      <td>€€ - €€€</td>\n",
       "      <td>Calle Bailén 19</td>\n",
       "      <td>Madrid España</td>\n",
       "      <td>Calle Bailén 19</td>\n",
       "      <td>Calle Bailén 19, Madrid España</td>\n",
       "      <td>(40.028851, -3.606505)</td>\n",
       "      <td>Calle Bailén 19, Madrid España</td>\n",
       "    </tr>\n",
       "    <tr>\n",
       "      <th>76.0</th>\n",
       "      <td>Taberna Más Al Sur</td>\n",
       "      <td>Calle Santa Isabel Nº 35, 28012 Madrid España</td>\n",
       "      <td>Mediterránea</td>\n",
       "      <td>#34 de 10.414 restaurantes en Madrid</td>\n",
       "      <td>€€ - €€€</td>\n",
       "      <td>Calle Santa Isabel Nº 35</td>\n",
       "      <td>Madrid España</td>\n",
       "      <td>Calle Santa Isabel 35</td>\n",
       "      <td>Calle Santa Isabel 35, Madrid España</td>\n",
       "      <td>(40.0316837, -3.5908706)</td>\n",
       "      <td>Calle Santa Isabel 35, Madrid España</td>\n",
       "    </tr>\n",
       "    <tr>\n",
       "      <th>95.0</th>\n",
       "      <td>Casa Labra</td>\n",
       "      <td>Calle Tetuan 12, 28013 Madrid España</td>\n",
       "      <td>Bar</td>\n",
       "      <td>#650 de 10.414 restaurantes en Madrid</td>\n",
       "      <td>€</td>\n",
       "      <td>Calle Tetuan 12</td>\n",
       "      <td>Madrid España</td>\n",
       "      <td>Calle Tetuan 12</td>\n",
       "      <td>Calle Tetuan 12, Madrid España</td>\n",
       "      <td>(40.0395885, -3.6142713)</td>\n",
       "      <td>Calle Tetuan 12, Madrid España</td>\n",
       "    </tr>\n",
       "    <tr>\n",
       "      <th>134.0</th>\n",
       "      <td>Parrilla El Gaucho</td>\n",
       "      <td>Calle Tetuan 34, 28013 Madrid España</td>\n",
       "      <td>Restaurante de carne</td>\n",
       "      <td>#311 de 10.414 restaurantes en Madrid</td>\n",
       "      <td>€€ - €€€</td>\n",
       "      <td>Calle Tetuan 34</td>\n",
       "      <td>Madrid España</td>\n",
       "      <td>Calle Tetuan 34</td>\n",
       "      <td>Calle Tetuan 34, Madrid España</td>\n",
       "      <td>(40.0395885, -3.6142713)</td>\n",
       "      <td>Calle Tetuan 34, Madrid España</td>\n",
       "    </tr>\n",
       "    <tr>\n",
       "      <th>279.0</th>\n",
       "      <td>Santa Eulalia Boulangerie</td>\n",
       "      <td>Calle Espejo 12, 28013 Madrid España</td>\n",
       "      <td>Confiterías/panaderías</td>\n",
       "      <td>N.º 23 de 477 cafeterías y teterías en Madrid</td>\n",
       "      <td>€€ - €€€</td>\n",
       "      <td>Calle Espejo 12</td>\n",
       "      <td>Madrid España</td>\n",
       "      <td>Calle Espejo 12</td>\n",
       "      <td>Calle Espejo 12, Madrid España</td>\n",
       "      <td>(40.1384846, -3.4252641)</td>\n",
       "      <td>Calle Espejo 12, Madrid España</td>\n",
       "    </tr>\n",
       "  </tbody>\n",
       "</table>\n",
       "</div>"
      ],
      "text/plain": [
       "                               name  \\\n",
       "indice                                \n",
       "413.0   El anciano rey de los vinos   \n",
       "76.0             Taberna Más Al Sur   \n",
       "95.0                     Casa Labra   \n",
       "134.0            Parrilla El Gaucho   \n",
       "279.0     Santa Eulalia Boulangerie   \n",
       "\n",
       "                                              address                    type  \\\n",
       "indice                                                                          \n",
       "413.0            Calle Bailén 19, 28013 Madrid España            Mediterránea   \n",
       "76.0    Calle Santa Isabel Nº 35, 28012 Madrid España            Mediterránea   \n",
       "95.0             Calle Tetuan 12, 28013 Madrid España                     Bar   \n",
       "134.0            Calle Tetuan 34, 28013 Madrid España    Restaurante de carne   \n",
       "279.0            Calle Espejo 12, 28013 Madrid España  Confiterías/panaderías   \n",
       "\n",
       "                                              ranking     price  \\\n",
       "indice                                                            \n",
       "413.0           #549 de 10.409 restaurantes en Madrid  €€ - €€€   \n",
       "76.0             #34 de 10.414 restaurantes en Madrid  €€ - €€€   \n",
       "95.0            #650 de 10.414 restaurantes en Madrid         €   \n",
       "134.0           #311 de 10.414 restaurantes en Madrid  €€ - €€€   \n",
       "279.0   N.º 23 de 477 cafeterías y teterías en Madrid  €€ - €€€   \n",
       "\n",
       "                       direccion      comunidad                 street  \\\n",
       "indice                                                                   \n",
       "413.0            Calle Bailén 19  Madrid España        Calle Bailén 19   \n",
       "76.0    Calle Santa Isabel Nº 35  Madrid España  Calle Santa Isabel 35   \n",
       "95.0             Calle Tetuan 12  Madrid España        Calle Tetuan 12   \n",
       "134.0            Calle Tetuan 34  Madrid España        Calle Tetuan 34   \n",
       "279.0            Calle Espejo 12  Madrid España        Calle Espejo 12   \n",
       "\n",
       "                                    street_2               coordinates  \\\n",
       "indice                                                                   \n",
       "413.0         Calle Bailén 19, Madrid España    (40.028851, -3.606505)   \n",
       "76.0    Calle Santa Isabel 35, Madrid España  (40.0316837, -3.5908706)   \n",
       "95.0          Calle Tetuan 12, Madrid España  (40.0395885, -3.6142713)   \n",
       "134.0         Calle Tetuan 34, Madrid España  (40.0395885, -3.6142713)   \n",
       "279.0         Calle Espejo 12, Madrid España  (40.1384846, -3.4252641)   \n",
       "\n",
       "                                    street_3  \n",
       "indice                                        \n",
       "413.0         Calle Bailén 19, Madrid España  \n",
       "76.0    Calle Santa Isabel 35, Madrid España  \n",
       "95.0          Calle Tetuan 12, Madrid España  \n",
       "134.0         Calle Tetuan 34, Madrid España  \n",
       "279.0         Calle Espejo 12, Madrid España  "
      ]
     },
     "execution_count": 103,
     "metadata": {},
     "output_type": "execute_result"
    }
   ],
   "source": [
    "df.head()"
   ]
  },
  {
   "cell_type": "code",
   "execution_count": 104,
   "id": "b9f7c142",
   "metadata": {},
   "outputs": [],
   "source": [
    "import ast"
   ]
  },
  {
   "cell_type": "code",
   "execution_count": 105,
   "id": "a5666796",
   "metadata": {},
   "outputs": [],
   "source": [
    "def ast_literal (x):\n",
    "    try:\n",
    "        return ast.literal_eval(x)\n",
    "    except:\n",
    "        return x"
   ]
  },
  {
   "cell_type": "code",
   "execution_count": 106,
   "id": "53f4de6a",
   "metadata": {},
   "outputs": [],
   "source": [
    "df.coordinates = df.coordinates.apply(ast_literal)"
   ]
  },
  {
   "cell_type": "code",
   "execution_count": 107,
   "id": "392ede03",
   "metadata": {},
   "outputs": [
    {
     "data": {
      "text/plain": [
       "tuple"
      ]
     },
     "execution_count": 107,
     "metadata": {},
     "output_type": "execute_result"
    }
   ],
   "source": [
    "type(df.coordinates[0])"
   ]
  },
  {
   "cell_type": "code",
   "execution_count": 108,
   "id": "5cf928c8",
   "metadata": {
    "scrolled": true
   },
   "outputs": [
    {
     "data": {
      "text/plain": [
       "name           object\n",
       "address        object\n",
       "type           object\n",
       "ranking        object\n",
       "price          object\n",
       "direccion      object\n",
       "comunidad      object\n",
       "street         object\n",
       "street_2       object\n",
       "coordinates    object\n",
       "street_3       object\n",
       "dtype: object"
      ]
     },
     "execution_count": 108,
     "metadata": {},
     "output_type": "execute_result"
    }
   ],
   "source": [
    "df.dtypes"
   ]
  },
  {
   "cell_type": "code",
   "execution_count": 109,
   "id": "dfc410a9",
   "metadata": {},
   "outputs": [],
   "source": [
    "def type_point(x):\n",
    "    return {\"type\":\"Point\", \"coordinates\": (x[1], x[0])}\n",
    " "
   ]
  },
  {
   "cell_type": "code",
   "execution_count": 110,
   "id": "8bc1f921",
   "metadata": {},
   "outputs": [],
   "source": [
    "df[\"type_point\"] = df[\"coordinates\"].apply(type_point)"
   ]
  },
  {
   "cell_type": "code",
   "execution_count": 111,
   "id": "ec335a01",
   "metadata": {
    "scrolled": true
   },
   "outputs": [
    {
     "data": {
      "text/html": [
       "<div>\n",
       "<style scoped>\n",
       "    .dataframe tbody tr th:only-of-type {\n",
       "        vertical-align: middle;\n",
       "    }\n",
       "\n",
       "    .dataframe tbody tr th {\n",
       "        vertical-align: top;\n",
       "    }\n",
       "\n",
       "    .dataframe thead th {\n",
       "        text-align: right;\n",
       "    }\n",
       "</style>\n",
       "<table border=\"1\" class=\"dataframe\">\n",
       "  <thead>\n",
       "    <tr style=\"text-align: right;\">\n",
       "      <th></th>\n",
       "      <th>name</th>\n",
       "      <th>address</th>\n",
       "      <th>type</th>\n",
       "      <th>ranking</th>\n",
       "      <th>price</th>\n",
       "      <th>direccion</th>\n",
       "      <th>comunidad</th>\n",
       "      <th>street</th>\n",
       "      <th>street_2</th>\n",
       "      <th>coordinates</th>\n",
       "      <th>street_3</th>\n",
       "      <th>type_point</th>\n",
       "    </tr>\n",
       "    <tr>\n",
       "      <th>indice</th>\n",
       "      <th></th>\n",
       "      <th></th>\n",
       "      <th></th>\n",
       "      <th></th>\n",
       "      <th></th>\n",
       "      <th></th>\n",
       "      <th></th>\n",
       "      <th></th>\n",
       "      <th></th>\n",
       "      <th></th>\n",
       "      <th></th>\n",
       "      <th></th>\n",
       "    </tr>\n",
       "  </thead>\n",
       "  <tbody>\n",
       "    <tr>\n",
       "      <th>413.0</th>\n",
       "      <td>El anciano rey de los vinos</td>\n",
       "      <td>Calle Bailén 19, 28013 Madrid España</td>\n",
       "      <td>Mediterránea</td>\n",
       "      <td>#549 de 10.409 restaurantes en Madrid</td>\n",
       "      <td>€€ - €€€</td>\n",
       "      <td>Calle Bailén 19</td>\n",
       "      <td>Madrid España</td>\n",
       "      <td>Calle Bailén 19</td>\n",
       "      <td>Calle Bailén 19, Madrid España</td>\n",
       "      <td>(40.028851, -3.606505)</td>\n",
       "      <td>Calle Bailén 19, Madrid España</td>\n",
       "      <td>{'type': 'Point', 'coordinates': (-3.606505, 4...</td>\n",
       "    </tr>\n",
       "    <tr>\n",
       "      <th>76.0</th>\n",
       "      <td>Taberna Más Al Sur</td>\n",
       "      <td>Calle Santa Isabel Nº 35, 28012 Madrid España</td>\n",
       "      <td>Mediterránea</td>\n",
       "      <td>#34 de 10.414 restaurantes en Madrid</td>\n",
       "      <td>€€ - €€€</td>\n",
       "      <td>Calle Santa Isabel Nº 35</td>\n",
       "      <td>Madrid España</td>\n",
       "      <td>Calle Santa Isabel 35</td>\n",
       "      <td>Calle Santa Isabel 35, Madrid España</td>\n",
       "      <td>(40.0316837, -3.5908706)</td>\n",
       "      <td>Calle Santa Isabel 35, Madrid España</td>\n",
       "      <td>{'type': 'Point', 'coordinates': (-3.5908706, ...</td>\n",
       "    </tr>\n",
       "  </tbody>\n",
       "</table>\n",
       "</div>"
      ],
      "text/plain": [
       "                               name  \\\n",
       "indice                                \n",
       "413.0   El anciano rey de los vinos   \n",
       "76.0             Taberna Más Al Sur   \n",
       "\n",
       "                                              address          type  \\\n",
       "indice                                                                \n",
       "413.0            Calle Bailén 19, 28013 Madrid España  Mediterránea   \n",
       "76.0    Calle Santa Isabel Nº 35, 28012 Madrid España  Mediterránea   \n",
       "\n",
       "                                      ranking     price  \\\n",
       "indice                                                    \n",
       "413.0   #549 de 10.409 restaurantes en Madrid  €€ - €€€   \n",
       "76.0     #34 de 10.414 restaurantes en Madrid  €€ - €€€   \n",
       "\n",
       "                       direccion      comunidad                 street  \\\n",
       "indice                                                                   \n",
       "413.0            Calle Bailén 19  Madrid España        Calle Bailén 19   \n",
       "76.0    Calle Santa Isabel Nº 35  Madrid España  Calle Santa Isabel 35   \n",
       "\n",
       "                                    street_2               coordinates  \\\n",
       "indice                                                                   \n",
       "413.0         Calle Bailén 19, Madrid España    (40.028851, -3.606505)   \n",
       "76.0    Calle Santa Isabel 35, Madrid España  (40.0316837, -3.5908706)   \n",
       "\n",
       "                                    street_3  \\\n",
       "indice                                         \n",
       "413.0         Calle Bailén 19, Madrid España   \n",
       "76.0    Calle Santa Isabel 35, Madrid España   \n",
       "\n",
       "                                               type_point  \n",
       "indice                                                     \n",
       "413.0   {'type': 'Point', 'coordinates': (-3.606505, 4...  \n",
       "76.0    {'type': 'Point', 'coordinates': (-3.5908706, ...  "
      ]
     },
     "execution_count": 111,
     "metadata": {},
     "output_type": "execute_result"
    }
   ],
   "source": [
    "df.head(2)"
   ]
  },
  {
   "cell_type": "code",
   "execution_count": 112,
   "id": "1581109d",
   "metadata": {},
   "outputs": [],
   "source": [
    "#dataframe.to_json(orient = 'index')"
   ]
  },
  {
   "cell_type": "markdown",
   "id": "03406f67",
   "metadata": {},
   "source": [
    "## Exportar a Mongo"
   ]
  },
  {
   "cell_type": "code",
   "execution_count": 113,
   "id": "02d0ef4d",
   "metadata": {},
   "outputs": [],
   "source": [
    "client = MongoClient(\"localhost:27017\")"
   ]
  },
  {
   "cell_type": "code",
   "execution_count": 114,
   "id": "b1bb5bec",
   "metadata": {},
   "outputs": [
    {
     "data": {
      "text/plain": [
       "Database(MongoClient(host=['localhost:27017'], document_class=dict, tz_aware=False, connect=True), 'PROYECTO')"
      ]
     },
     "execution_count": 114,
     "metadata": {},
     "output_type": "execute_result"
    }
   ],
   "source": [
    "db = client.get_database(\"PROYECTO\")\n",
    "db"
   ]
  },
  {
   "cell_type": "code",
   "execution_count": 115,
   "id": "ef21fa94",
   "metadata": {},
   "outputs": [],
   "source": [
    "collection = db[\"Restaurantes\"]"
   ]
  },
  {
   "cell_type": "code",
   "execution_count": 116,
   "id": "d5cecc86",
   "metadata": {},
   "outputs": [
    {
     "data": {
      "text/plain": [
       "'type_point__2dsphere'"
      ]
     },
     "execution_count": 116,
     "metadata": {},
     "output_type": "execute_result"
    }
   ],
   "source": [
    "collection.create_index([(\"type_point_\", \"2dsphere\")])"
   ]
  },
  {
   "cell_type": "code",
   "execution_count": 117,
   "id": "038b14d5",
   "metadata": {},
   "outputs": [],
   "source": [
    "data = df.to_dict(orient='records')"
   ]
  },
  {
   "cell_type": "code",
   "execution_count": 119,
   "id": "fdf35d91",
   "metadata": {
    "scrolled": true
   },
   "outputs": [
    {
     "data": {
      "text/plain": [
       "<pymongo.results.InsertManyResult at 0x7fbf9d5fbd00>"
      ]
     },
     "execution_count": 119,
     "metadata": {},
     "output_type": "execute_result"
    }
   ],
   "source": [
    "collection.insert_many(data)"
   ]
  },
  {
   "cell_type": "markdown",
   "id": "ab110d00",
   "metadata": {},
   "source": [
    "1- Input preguntando donde estas\n",
    "2- Input preguntando que radio quieren\n",
    "3- Funcion que pasa de direccion a coordenadas (coordenadas al reves)\n",
    "4- Funcion que me haga una query near a moongo y me devuelva todos los restaurantes en el radio  "
   ]
  }
 ],
 "metadata": {
  "kernelspec": {
   "display_name": "ironhack",
   "language": "python",
   "name": "ironhack"
  },
  "language_info": {
   "codemirror_mode": {
    "name": "ipython",
    "version": 3
   },
   "file_extension": ".py",
   "mimetype": "text/x-python",
   "name": "python",
   "nbconvert_exporter": "python",
   "pygments_lexer": "ipython3",
   "version": "3.8.5"
  }
 },
 "nbformat": 4,
 "nbformat_minor": 5
}
