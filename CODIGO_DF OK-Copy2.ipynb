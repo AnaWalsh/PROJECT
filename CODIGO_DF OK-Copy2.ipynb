{
 "cells": [
  {
   "cell_type": "code",
   "execution_count": 1,
   "id": "71c35df0",
   "metadata": {},
   "outputs": [],
   "source": [
    "from selenium import webdriver\n",
    "from selenium.webdriver.chrome.options import Options\n",
    "import time\n",
    "import pandas as pd\n",
    "from selenium.webdriver.support.ui import Select\n",
    "from webdriver_manager.chrome import ChromeDriverManager\n",
    "from geopy.geocoders import Nominatim"
   ]
  },
  {
   "cell_type": "code",
   "execution_count": 2,
   "id": "92670de0",
   "metadata": {},
   "outputs": [],
   "source": [
    "import requests\n",
    "import json\n",
    "from dotenv import load_dotenv\n",
    "import os\n",
    "import pandas as pd\n",
    "from functools import reduce\n",
    "import operator\n",
    "from pymongo import MongoClient\n",
    "from pymongo import GEOSPHERE\n",
    "import sys\n",
    "from bson.json_util import dumps\n",
    "import folium\n",
    "from folium import Choropleth, Circle, Marker, Icon, Map\n",
    "from folium.plugins import HeatMap, MarkerCluster"
   ]
  },
  {
   "cell_type": "code",
   "execution_count": 3,
   "id": "4665ca95",
   "metadata": {},
   "outputs": [],
   "source": [
    "opciones=Options()\n",
    "\n",
    "opciones.add_experimental_option('excludeSwitches', ['enable-automation'])\n",
    "opciones.add_experimental_option('useAutomationExtension', False)\n",
    "\n",
    "opciones.headless=False    # si True, no aperece la ventana (headless=no visible)\n",
    "\n",
    "opciones.add_argument('--start-maximized')         # comienza maximizado\n",
    "\n",
    "opciones.add_argument('user-data-dir=selenium')    # mantiene las cookies\n",
    "\n",
    "#opciones.add_extension('driver_folder/adblock.crx')       # adblocker\n",
    "\n",
    "opciones.add_argument('--incognito')              # incognito"
   ]
  },
  {
   "cell_type": "code",
   "execution_count": 4,
   "id": "ba7ca1b4",
   "metadata": {},
   "outputs": [
    {
     "name": "stderr",
     "output_type": "stream",
     "text": [
      "\n",
      "\n",
      "====== WebDriver manager ======\n",
      "Current google-chrome version is 96.0.4664\n",
      "Get LATEST chromedriver version for 96.0.4664 google-chrome\n",
      "Driver [/Users/awalsh/.wdm/drivers/chromedriver/mac64/96.0.4664.45/chromedriver] found in cache\n",
      "<ipython-input-4-dbb1a55db7ca>:7: DeprecationWarning: executable_path has been deprecated, please pass in a Service object\n",
      "  driver = webdriver.Chrome(ChromeDriverManager().install(), options = opciones)\n",
      "<ipython-input-4-dbb1a55db7ca>:11: DeprecationWarning: find_element_by_* commands are deprecated. Please use find_element() instead\n",
      "  driver.find_element_by_css_selector(\"#onetrust-accept-btn-handler\").click()\n",
      "<ipython-input-4-dbb1a55db7ca>:17: DeprecationWarning: find_element_by_* commands are deprecated. Please use find_element() instead\n",
      "  dic_url[\"URL\"].append(driver.find_element_by_css_selector(f\"#BODY_BLOCK_JQUERY_REFLOW > div.page > div > div.ui_container.main_wrap > div > div > div > div > div.content_column.ui_column.is-9-desktop.is-12-tablet.is-12-mobile > div > div.ui_columns.sections_wrapper > div > div.prw_rup.prw_search_search_results.ajax-content > div > div.main_content.ui_column.is-12 > div > div:nth-child(2) > div > div > div:nth-child({i}) > div > div > div > div.ui_column.is-9-desktop.is-8-mobile.is-9-tablet.content-block-column > div.location-meta-block > div.result-title\").get_attribute(\"onclick\"))\n"
     ]
    },
    {
     "name": "stdout",
     "output_type": "stream",
     "text": [
      "We have the restaurant's URL 🚀 1\n",
      "We have the restaurant's URL 🚀 2\n",
      "We have the restaurant's URL 🚀 3\n",
      "We have the restaurant's URL 🚀 4\n",
      "We have the restaurant's URL 🚀 5\n",
      "We have the restaurant's URL 🚀 7\n",
      "We have the restaurant's URL 🚀 8\n",
      "We have the restaurant's URL 🚀 9\n",
      "We have the restaurant's URL 🚀 10\n",
      "We have the restaurant's URL 🚀 11\n",
      "We have the restaurant's URL 🚀 13\n",
      "We have the restaurant's URL 🚀 14\n",
      "We have the restaurant's URL 🚀 15\n",
      "We have the restaurant's URL 🚀 16\n",
      "We have the restaurant's URL 🚀 17\n",
      "We have the restaurant's URL 🚀 19\n",
      "We have the restaurant's URL 🚀 20\n",
      "We have the restaurant's URL 🚀 21\n",
      "We have the restaurant's URL 🚀 22\n",
      "We have the restaurant's URL 🚀 23\n",
      "We have the restaurant's URL 🚀 25\n",
      "We have the restaurant's URL 🚀 26\n",
      "We have the restaurant's URL 🚀 27\n",
      "We have the restaurant's URL 🚀 28\n",
      "We have the restaurant's URL 🚀 29\n"
     ]
    }
   ],
   "source": [
    "# sacar urls ESTO VALEEEEE\n",
    "dic_url = {\"URL\": []}\n",
    "lista_mid_urls = []\n",
    "\n",
    "\n",
    "    \n",
    "driver = webdriver.Chrome(ChromeDriverManager().install(), options = opciones)\n",
    "url = \"https://www.tripadvisor.es/Search?q=MADRID&searchSessionId=AAC12DFCE328D1F32E893F404A794CE71638809580308ssid&sid=9F59869EAAA642E8B588911214CFAC611638809599418&blockRedirect=true&ssrc=e&geo=187514&rf=2\"\n",
    "driver.get(url)\n",
    "driver.implicitly_wait(2)\n",
    "driver.find_element_by_css_selector(\"#onetrust-accept-btn-handler\").click()\n",
    "driver.implicitly_wait(10)\n",
    "\n",
    "for i in range(1,31):\n",
    "    \n",
    "    try:\n",
    "        dic_url[\"URL\"].append(driver.find_element_by_css_selector(f\"#BODY_BLOCK_JQUERY_REFLOW > div.page > div > div.ui_container.main_wrap > div > div > div > div > div.content_column.ui_column.is-9-desktop.is-12-tablet.is-12-mobile > div > div.ui_columns.sections_wrapper > div > div.prw_rup.prw_search_search_results.ajax-content > div > div.main_content.ui_column.is-12 > div > div:nth-child(2) > div > div > div:nth-child({i}) > div > div > div > div.ui_column.is-9-desktop.is-8-mobile.is-9-tablet.content-block-column > div.location-meta-block > div.result-title\").get_attribute(\"onclick\"))\n",
    "        print(\"We have the restaurant's URL 🚀\", i)\n",
    "\n",
    "        urls = list(dic_url.values())\n",
    "    except: \n",
    "        pass\n",
    "\n",
    "for i in range(len(urls[0])):\n",
    "    lista_mid_urls.append(urls[0][i].split(\",\")[3].replace(\"'\", \"\").lstrip())"
   ]
  },
  {
   "cell_type": "code",
   "execution_count": null,
   "id": "ec207244",
   "metadata": {},
   "outputs": [],
   "source": [
    "lista_mid_urls"
   ]
  },
  {
   "cell_type": "code",
   "execution_count": null,
   "id": "c2a77723",
   "metadata": {},
   "outputs": [],
   "source": [
    "#driver = webdriver.Chrome(ChromeDriverManager().install(), options = opciones)\n",
    "final_list = []\n",
    "\n",
    "for i in lista_mid_urls:\n",
    "    final_list.append(\"https://www.tripadvisor.es\" + i)\n"
   ]
  },
  {
   "cell_type": "code",
   "execution_count": null,
   "id": "f616c4a6",
   "metadata": {},
   "outputs": [],
   "source": [
    "final_list"
   ]
  },
  {
   "cell_type": "code",
   "execution_count": null,
   "id": "ca90f1d0",
   "metadata": {},
   "outputs": [],
   "source": [
    "driver.quit()"
   ]
  },
  {
   "cell_type": "code",
   "execution_count": null,
   "id": "5638f9fb",
   "metadata": {},
   "outputs": [],
   "source": [
    "dic = {\"name\":[], \"address\":[], \"type\":[],\"ranking\":[], \"price\":[]}\n",
    "driver = webdriver.Chrome(ChromeDriverManager().install(), options = opciones)\n",
    "for i in final_list:\n",
    "\n",
    "    try:\n",
    "        driver.get(i)\n",
    "        time.sleep(5)\n",
    "        driver.find_element_by_css_selector(\"#onetrust-accept-btn-handler\").click()\n",
    "        dic[\"name\"].append(driver.find_element_by_xpath(\"/html/body/div[2]/div[1]/div/div[3]/div/div/div[1]/h1\").text)\n",
    "        print(\"We have the restaurant's name🍴\")\n",
    "        #aqui cojo el texto del nombre)\n",
    "        dic[\"address\"].append(driver.find_element_by_xpath(\"/html/body/div[2]/div[1]/div/div[3]/div/div/div[3]/span[1]/span/a\").text)\n",
    "        print(\"We know were it is 📍\")\n",
    "        #aqui cojo el texto de la dirección\n",
    "        dic[\"type\"].append(driver.find_element_by_xpath(\"/html/body/div[2]/div[1]/div/div[3]/div/div/div[2]/span[3]/a[2]\").text)\n",
    "        print(\"We know the type of food it can offer 🍕🍱🥘\")\n",
    "        #aqui cojo el texto de la dirección\n",
    "        dic[\"ranking\"].append(driver.find_element_by_xpath(\"/html/body/div[2]/div[1]/div/div[3]/div/div/div[2]/span[2]/a/span\").text)\n",
    "        print(\"We know how good it is 📈\")\n",
    "        #aqui cojo el texto de la dirección\n",
    "        dic[\"price\"].append(driver.find_element_by_xpath(\"/html/body/div[2]/div[1]/div/div[3]/div/div/div[2]/span[3]/a[1]\").text)\n",
    "        print(\"How pricy is it? 💸\")\n",
    "        \n",
    "        \n",
    "\n",
    "        \n",
    "        # /html/body/div[2]/div[1]/div/div[3]/div/div/div[4]/div/div/div\n",
    "        \n",
    "    except: \n",
    "        driver.get(i)\n",
    "        time.sleep(5)\n",
    "        dic[\"name\"].append(driver.find_element_by_xpath(\"/html/body/div[2]/div[1]/div/div[3]/div/div/div[1]/h1\").text)\n",
    "        print(\"We have the restaurant's name🍴\")\n",
    "        #aqui cojo el texto del nombre)\n",
    "        dic[\"address\"].append(driver.find_element_by_xpath(\"/html/body/div[2]/div[1]/div/div[3]/div/div/div[3]/span[1]/span/a\").text)\n",
    "        print(\"We know were it is 📍\")\n",
    "        #aqui cojo el texto de la dirección\n",
    "        dic[\"type\"].append(driver.find_element_by_xpath(\"/html/body/div[2]/div[1]/div/div[3]/div/div/div[2]/span[3]/a[2]\").text)\n",
    "        print(\"We know the type of food it can offer 🍕🍱🥘\")\n",
    "        #aqui cojo el texto de la dirección\n",
    "        dic[\"ranking\"].append(driver.find_element_by_xpath(\"/html/body/div[2]/div[1]/div/div[3]/div/div/div[2]/span[2]/a/span\").text)\n",
    "        print(\"We know how good it is 📈\")\n",
    "        #aqui cojo el texto de la dirección\n",
    "        dic[\"price\"].append(driver.find_element_by_xpath(\"/html/body/div[2]/div[1]/div/div[3]/div/div/div[2]/span[3]/a[1]\").text)\n",
    "        print(\"How pricy is it? 💸\")\n",
    "        "
   ]
  },
  {
   "cell_type": "code",
   "execution_count": null,
   "id": "8a4698c6",
   "metadata": {},
   "outputs": [],
   "source": [
    "print(dic)"
   ]
  },
  {
   "cell_type": "code",
   "execution_count": null,
   "id": "846ca00f",
   "metadata": {},
   "outputs": [],
   "source": [
    "df = pd.DataFrame.from_dict(dic, orient='index')\n",
    "df"
   ]
  },
  {
   "cell_type": "code",
   "execution_count": null,
   "id": "83148cab",
   "metadata": {},
   "outputs": [],
   "source": [
    "df = df.transpose()\n",
    "df"
   ]
  },
  {
   "cell_type": "code",
   "execution_count": null,
   "id": "91a6011d",
   "metadata": {},
   "outputs": [],
   "source": [
    "def sustituye(x):\n",
    "    x = str(x).replace('C/', \"Calle\")\n",
    "    return x"
   ]
  },
  {
   "cell_type": "code",
   "execution_count": null,
   "id": "b0930510",
   "metadata": {},
   "outputs": [],
   "source": [
    "df[\"address\"] = df.address.apply(sustituye)"
   ]
  },
  {
   "cell_type": "code",
   "execution_count": null,
   "id": "ab9bb1ae",
   "metadata": {},
   "outputs": [],
   "source": [
    "def delete_hashtag(x):\n",
    "    x = str(x).replace('#', \"\")\n",
    "    return x"
   ]
  },
  {
   "cell_type": "code",
   "execution_count": null,
   "id": "d379032a",
   "metadata": {},
   "outputs": [],
   "source": [
    "df[\"ranking\"] = df.ranking.apply(delete_hashtag)"
   ]
  },
  {
   "cell_type": "code",
   "execution_count": null,
   "id": "9281503e",
   "metadata": {},
   "outputs": [],
   "source": [
    "def delete_string(x):\n",
    "    x = str(x).replace('restaurantes en Madrid', \"\")\n",
    "    return x"
   ]
  },
  {
   "cell_type": "code",
   "execution_count": null,
   "id": "630b6bf6",
   "metadata": {},
   "outputs": [],
   "source": [
    "df[\"ranking\"] = df.ranking.apply(delete_string)"
   ]
  },
  {
   "cell_type": "code",
   "execution_count": null,
   "id": "dc30a7a1",
   "metadata": {},
   "outputs": [],
   "source": [
    "def delete_postalcode(x):\n",
    "    (re.split('; |, ', x))\n",
    "\n",
    "\n",
    "# regex magico: \\d[28].*$    \\d[28000-28999].*$"
   ]
  },
  {
   "cell_type": "code",
   "execution_count": null,
   "id": "458d00e9",
   "metadata": {},
   "outputs": [],
   "source": [
    "(re.split('; |, ', text))"
   ]
  },
  {
   "cell_type": "code",
   "execution_count": null,
   "id": "948fed15",
   "metadata": {},
   "outputs": [],
   "source": [
    "df"
   ]
  },
  {
   "cell_type": "code",
   "execution_count": null,
   "id": "6a2bca75",
   "metadata": {},
   "outputs": [],
   "source": [
    "def get_coordenadas(city):\n",
    "    \"\"\"\n",
    "    Esta función saca las coordenadas de la ciudad que le pases.\n",
    "    Args: una ciudad (string).\n",
    "    Return: Las coordeandas de la ciudad que le paso como argumento (latitud y longitud).\n",
    "    \"\"\"\n",
    "    geolocator = Nominatim(user_agent=\"Ana\")\n",
    "    location = geolocator.geocode(query=city, exactly_one=True)\n",
    "    return location[1]"
   ]
  },
  {
   "cell_type": "code",
   "execution_count": null,
   "id": "27e17484",
   "metadata": {},
   "outputs": [],
   "source": [
    "df.address.unique()"
   ]
  },
  {
   "cell_type": "code",
   "execution_count": null,
   "id": "796c1f4d",
   "metadata": {},
   "outputs": [],
   "source": [
    "get_coordenadas(\"Calle Azcona 46, 28028 Madrid España\")"
   ]
  },
  {
   "cell_type": "code",
   "execution_count": null,
   "id": "8ea78006",
   "metadata": {},
   "outputs": [],
   "source": [
    "get_coordenadas(\"Paseo General Martínez Campos, 26 Madrid España\")"
   ]
  },
  {
   "cell_type": "code",
   "execution_count": null,
   "id": "624c2c45",
   "metadata": {},
   "outputs": [],
   "source": [
    "get_coordenadas(Calle Goya, 5-7, 28001 Madrid España\")"
   ]
  },
  {
   "cell_type": "code",
   "execution_count": null,
   "id": "55737536",
   "metadata": {},
   "outputs": [],
   "source": [
    "get_coordenadas(\"Calle Azcona 46, 28028 Madrid España\") ########################"
   ]
  },
  {
   "cell_type": "code",
   "execution_count": null,
   "id": "762587ef",
   "metadata": {},
   "outputs": [],
   "source": [
    "get_coordenadas(\"Avenida de Concha Espina 55, 28016 Madrid España\") ################"
   ]
  },
  {
   "cell_type": "code",
   "execution_count": null,
   "id": "5bf031f6",
   "metadata": {},
   "outputs": [],
   "source": [
    "get_coordenadas(\"Calle Goya, 5-7 Calle Goya, 5-7, 28001 Madrid España\")"
   ]
  },
  {
   "cell_type": "code",
   "execution_count": null,
   "id": "fdcc1d3f",
   "metadata": {},
   "outputs": [],
   "source": [
    "get_coordenadas(\"Calle Goya, 5-7 Calle Goya, 5-7, 28001 Madrid España\")"
   ]
  },
  {
   "cell_type": "code",
   "execution_count": null,
   "id": "4a0453ee",
   "metadata": {},
   "outputs": [],
   "source": [
    "get_coordenadas(\"Paseo de la Castellana, 36, 28046 Madrid España\")"
   ]
  },
  {
   "cell_type": "code",
   "execution_count": null,
   "id": "d6138c18",
   "metadata": {},
   "outputs": [],
   "source": [
    "get_coordenadas(\"Primer enigma a resolver Centro de Madrid, 28006 Madrid España\")"
   ]
  },
  {
   "cell_type": "code",
   "execution_count": null,
   "id": "593044b4",
   "metadata": {},
   "outputs": [],
   "source": [
    "get_coordenadas(\"Plaza Mayor 30 Entrada al restaurante por Calle de la Sal 2, 28012 Madrid España\")"
   ]
  },
  {
   "cell_type": "code",
   "execution_count": null,
   "id": "162efcd7",
   "metadata": {},
   "outputs": [],
   "source": [
    "get_coordenadas(\"Calle de la Sal 2, 28012 Madrid España\")"
   ]
  },
  {
   "cell_type": "code",
   "execution_count": null,
   "id": "35436f94",
   "metadata": {},
   "outputs": [],
   "source": [
    "get_coordenadas(\"Calle del Molino de Viento 4, 28004 Madrid España\")"
   ]
  },
  {
   "cell_type": "code",
   "execution_count": null,
   "id": "8af147a2",
   "metadata": {},
   "outputs": [],
   "source": [
    "get_coordenadas(\"Calle Cádiz, 4, 28012 Madrid España\")"
   ]
  },
  {
   "cell_type": "code",
   "execution_count": null,
   "id": "2cc5b54b",
   "metadata": {},
   "outputs": [],
   "source": [
    "get_coordenadas(\"Calle San Leonardo, 12 bajo, 28015 Madrid España\")"
   ]
  },
  {
   "cell_type": "code",
   "execution_count": null,
   "id": "67ff59d0",
   "metadata": {},
   "outputs": [],
   "source": []
  }
 ],
 "metadata": {
  "kernelspec": {
   "display_name": "ironhack",
   "language": "python",
   "name": "ironhack"
  },
  "language_info": {
   "codemirror_mode": {
    "name": "ipython",
    "version": 3
   },
   "file_extension": ".py",
   "mimetype": "text/x-python",
   "name": "python",
   "nbconvert_exporter": "python",
   "pygments_lexer": "ipython3",
   "version": "3.8.5"
  }
 },
 "nbformat": 4,
 "nbformat_minor": 5
}
